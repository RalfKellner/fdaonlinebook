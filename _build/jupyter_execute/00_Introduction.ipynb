{
 "cells": [
  {
   "cell_type": "markdown",
   "metadata": {},
   "source": [
    "# Financial Data Analytics\n",
    "\n",
    "Welcome to the Financial Data Analytics course. Due to the advancing digitalization, a large amount of available data on companies, products and individuals has been created in the last decades. At the same time, storage and computing capacities of IT systems are increasing. As a result of these developments, methods of data analysis have constantly evolved and allow automated and complex analyses of data. The goal of data analysis is to gain insights through these analyses, which in the best case generate new values. The content of this course is intended to provide you with insights into which aspects are important for modern data analysis and how it fundamentally works. We focus on financial data, however, the methods presented also apply to different research fields. More specifically, the following content is part of the course:\n",
    "\n",
    "* Data types, data retrieval and data preparation.\n",
    "* Descriptive and graphical analysis of data\n",
    "* Regression models\n",
    "* Model evaluation \n",
    "* Dimension reduction\n",
    "* Clustering\n",
    "\n",
    "In the course we will work according to the motto \"learning by doing\" and evaluate data independently. The course material consists of:\n",
    "\n",
    "* This online book for the course \n",
    "* Digital worksheets \n",
    "\n",
    "You are already reading the book and accordingly you have found the access. The notebooks can be accessed using links like [these](https://colab.research.google.com/drive/1Cp-_KjJ2qXUyEPBwShu6WoHVQgwuKsF-?usp=drive_link). The course starts first with a small Python introduction. Python is one of the most popular programming languages in the world and is particularly useful for data analysis, as access to cutting-edge data analysis technology and methods is provided by Python. The point is not that you should learn programming using Python entirely as part of the course. Rather, Python is a tool for data analysis. The course is primarily about you understanding the output of the programmed cells and, more importantly, interpreting it appropriately. Nevertheless, towards the end of the course you need to be able to adapt and evaluate code examples appropriately for your own analyses. Besides the introduction to Python, we will work through basic methods of data analysis. We will start with descriptive analysis and continue with the analysis of individual target variables. We then move on to dimensionality reduction and clustering techniques, which focus on the interaction of all data. For all content, you will find videos and examples in digital worksheets (notebooks). The notebooks are meant as an exercise for you and you should try to work through them on your own using the information from this book and the videos. Afterwards, you can check your solution against the sample solutions in the worksheets. Furthermore, these workbooks are discussed in the course tutorial. \n",
    "\n",
    "This procedure serves as preparation for the course exam. Within the exam, you will interpret the output of already generated analyses, in some cases you will perform your own analyses and respond to content questions about the course. Good luck!"
   ]
  },
  {
   "cell_type": "markdown",
   "metadata": {},
   "source": [
    "# Literature to accompany the book\n",
    "\n",
    "Should you wish to further deepen the knowledge presented during the course, I can especially recommend the following two books as companion reading:\n",
    "\n",
    "* James, G., Witten, D., Hastie, T., Tibshirani, R., Taylor, J. (2023): An Introduction to Statistical Learning with Applications in Python, Springer Verlag.\n",
    "* Ruppert, D., Matteson, D.S. (2015): Statistics and Data Analysis for Financial Engineering with R examples, Springer Verlag."
   ]
  }
 ],
 "metadata": {
  "kernelspec": {
   "display_name": ".venv",
   "language": "python",
   "name": "python3"
  },
  "language_info": {
   "codemirror_mode": {
    "name": "ipython",
    "version": 3
   },
   "file_extension": ".py",
   "mimetype": "text/x-python",
   "name": "python",
   "nbconvert_exporter": "python",
   "pygments_lexer": "ipython3",
   "version": "3.10.10"
  }
 },
 "nbformat": 4,
 "nbformat_minor": 2
}